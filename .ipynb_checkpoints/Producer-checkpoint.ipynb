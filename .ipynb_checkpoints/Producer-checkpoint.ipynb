{
 "cells": [
  {
   "cell_type": "code",
   "execution_count": 8,
   "id": "891cc061",
   "metadata": {},
   "outputs": [],
   "source": [
    "from confluent_kafka import Producer\n",
    "import requests\n",
    "import json\n",
    "import time\n",
    "\n",
    "# Define the Kafka producer configuration\n",
    "producer_config = {\n",
    "    'bootstrap.servers': 'localhost:9092',  # Adjust the Kafka broker address as needed\n",
    "    'client.id': 'randomuser_producer'\n",
    "}\n",
    "\n",
    "# Define the Kafka topic\n",
    "kafka_topic = 'user_profiles'\n",
    "\n",
    "# Create a Kafka producer instance\n",
    "producer = Producer(producer_config)\n",
    "\n",
    "# Function to fetch user profiles from the API and publish to Kafka\n",
    "def fetch_and_publish_user_profiles():\n",
    "    user_count = 0\n",
    "    while True:  # Continue fetching until you choose to stop\n",
    "        try:\n",
    "            response = requests.get(api_url, timeout=5)  # Add a timeout here (in seconds)\n",
    "\n",
    "            if response.status_code == 200:\n",
    "                data = response.json()['results'][0]\n",
    "                message_value = json.dumps(data).encode('utf-8')\n",
    "                producer.produce(topic=kafka_topic, value=message_value)\n",
    "\n",
    "                producer.flush()\n",
    "\n",
    "                user_count += 1\n",
    "                print(f\"Published user profile to Kafka topic: {kafka_topic}\")\n",
    "        except Exception as e:\n",
    "            # Handle request exceptions (e.g., network errors)\n",
    "            print(f\"Request to API failed: {e}\")\n",
    "            time.sleep(2)  # Add a delay before retrying\n",
    "\n",
    "        # Add a 2-second delay between fetching users\n",
    "        time.sleep(2)\n",
    "\n",
    "# Define the API URL for randomuser.me\n",
    "api_url = \"https://randomuser.me/api/?results=1\"  # You can adjust the number of results as needed\n",
    "\n",
    "# Run the function to continuously fetch and publish user profiles\n",
    "fetch_and_publish_user_profiles()"
   ]
  }
 ],
 "metadata": {
  "kernelspec": {
   "display_name": "Python 3 (ipykernel)",
   "language": "python",
   "name": "python3"
  },
  "language_info": {
   "codemirror_mode": {
    "name": "ipython",
    "version": 3
   },
   "file_extension": ".py",
   "mimetype": "text/x-python",
   "name": "python",
   "nbconvert_exporter": "python",
   "pygments_lexer": "ipython3",
   "version": "3.11.3"
  },
  "vp": {
   "vp_config_version": "1.0.0",
   "vp_menu_width": 273,
   "vp_note_display": false,
   "vp_note_width": 0,
   "vp_position": {
    "width": 278
   },
   "vp_section_display": false,
   "vp_signature": "VisualPython"
  }
 },
 "nbformat": 4,
 "nbformat_minor": 5
}
