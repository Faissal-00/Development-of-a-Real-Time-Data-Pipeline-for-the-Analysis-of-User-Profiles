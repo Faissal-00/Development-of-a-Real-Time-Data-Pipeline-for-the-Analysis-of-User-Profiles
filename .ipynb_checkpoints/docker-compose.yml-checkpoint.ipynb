{
 "cells": [
  {
   "cell_type": "code",
   "execution_count": null,
   "id": "f0ef4a9e",
   "metadata": {},
   "outputs": [],
   "source": [
    "version: '3'\n",
    "\n",
    "services:\n",
    "  zookeeper:\n",
    "    image: wurstmeister/zookeeper\n",
    "    container_name: zookeeper\n",
    "    ports:\n",
    "      - \"2181:2181\"\n",
    "\n",
    "  kafka:\n",
    "    image: wurstmeister/kafka\n",
    "    container_name: kafka\n",
    "    ports:\n",
    "      - \"9092:9092\"\n",
    "    environment:\n",
    "      KAFKA_ADVERTISED_HOST_NAME: localhost\n",
    "      KAFKA_ZOOKEEPER_CONNECT: zookeeper:2181\n",
    "\n",
    "  cassandra:\n",
    "    image: cassandra\n",
    "    container_name: cassandra\n",
    "    ports:\n",
    "      - \"9042:9042\"\n",
    "\n",
    "  mongo:\n",
    "    image: mongo\n",
    "    container_name: mongo\n",
    "    ports:\n",
    "      - \"27017:27017\""
   ]
  }
 ],
 "metadata": {
  "kernelspec": {
   "display_name": "Python 3 (ipykernel)",
   "language": "python",
   "name": "python3"
  },
  "language_info": {
   "codemirror_mode": {
    "name": "ipython",
    "version": 3
   },
   "file_extension": ".py",
   "mimetype": "text/x-python",
   "name": "python",
   "nbconvert_exporter": "python",
   "pygments_lexer": "ipython3",
   "version": "3.11.3"
  },
  "vp": {
   "vp_config_version": "1.0.0",
   "vp_menu_width": 273,
   "vp_note_display": false,
   "vp_note_width": 0,
   "vp_position": {
    "width": 278
   },
   "vp_section_display": false,
   "vp_signature": "VisualPython"
  }
 },
 "nbformat": 4,
 "nbformat_minor": 5
}
